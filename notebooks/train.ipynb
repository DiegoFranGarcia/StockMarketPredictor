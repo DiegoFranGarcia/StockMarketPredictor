{
 "cells": [
  {
   "cell_type": "code",
   "execution_count": 1,
   "id": "4c8fa0a5",
   "metadata": {},
   "outputs": [],
   "source": [
    "#get data\n",
    "import pandas as pd\n",
    "\n",
    "file_path = 'sp500_data.csv'\n",
    "sp500 = pd.read_csv(file_path)\n"
   ]
  },
  {
   "cell_type": "code",
   "execution_count": null,
   "id": "eb9c4c6e",
   "metadata": {},
   "outputs": [],
   "source": [
    "from sklearn.ensemble import RandomForestClassifier\n",
    "\n"
   ]
  }
 ],
 "metadata": {
  "kernelspec": {
   "display_name": "Python (stockvenv)",
   "language": "python",
   "name": "stockvenv"
  },
  "language_info": {
   "codemirror_mode": {
    "name": "ipython",
    "version": 3
   },
   "file_extension": ".py",
   "mimetype": "text/x-python",
   "name": "python",
   "nbconvert_exporter": "python",
   "pygments_lexer": "ipython3",
   "version": "3.12.3"
  }
 },
 "nbformat": 4,
 "nbformat_minor": 5
}
